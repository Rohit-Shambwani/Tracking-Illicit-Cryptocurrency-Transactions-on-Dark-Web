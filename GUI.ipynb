{
 "cells": [
  {
   "cell_type": "code",
   "execution_count": 32,
   "id": "brown-scanning",
   "metadata": {},
   "outputs": [],
   "source": [
    "import tkinter as tk"
   ]
  },
  {
   "cell_type": "code",
   "execution_count": 2,
   "id": "increasing-lover",
   "metadata": {},
   "outputs": [
    {
     "ename": "ImportError",
     "evalue": "cannot import name 'Final_Crawler' from 'Final_Crawler' (/home/rittick/Desktop/BEproject/Final_Crawler/__init__.py)",
     "output_type": "error",
     "traceback": [
      "\u001b[0;31m---------------------------------------------------------------------------\u001b[0m",
      "\u001b[0;31mImportError\u001b[0m                               Traceback (most recent call last)",
      "\u001b[0;32m<ipython-input-2-0a64f8b9f539>\u001b[0m in \u001b[0;36m<module>\u001b[0;34m\u001b[0m\n\u001b[0;32m----> 1\u001b[0;31m \u001b[0;32mfrom\u001b[0m \u001b[0mFinal_Crawler\u001b[0m \u001b[0;32mimport\u001b[0m \u001b[0mFinal_Crawler\u001b[0m\u001b[0;34m\u001b[0m\u001b[0;34m\u001b[0m\u001b[0m\n\u001b[0m",
      "\u001b[0;31mImportError\u001b[0m: cannot import name 'Final_Crawler' from 'Final_Crawler' (/home/rittick/Desktop/BEproject/Final_Crawler/__init__.py)"
     ]
    }
   ],
   "source": [
    "from Final_Crawler import Final_Crawler"
   ]
  },
  {
   "cell_type": "code",
   "execution_count": 6,
   "id": "tribal-queensland",
   "metadata": {},
   "outputs": [],
   "source": [
    "from pyvis import network as net\n",
    "import networkx as nx"
   ]
  },
  {
   "cell_type": "code",
   "execution_count": 30,
   "id": "australian-registrar",
   "metadata": {},
   "outputs": [],
   "source": [
    "g=net.Network(notebook=True)\n",
    "nxg=nx.complete_graph(5)\n",
    "g.from_nx(nxg)\n",
    "g.save_graph('testmy.html')"
   ]
  },
  {
   "cell_type": "code",
   "execution_count": 11,
   "id": "pressing-consolidation",
   "metadata": {},
   "outputs": [
    {
     "name": "stdout",
     "output_type": "stream",
     "text": [
      "/home/rittick/anaconda3/lib/python3.8/site-packages/secretstorage/dhcrypto.py:16: CryptographyDeprecationWarning: int_from_bytes is deprecated, use int.from_bytes instead\n",
      "  from cryptography.utils import int_from_bytes\n",
      "/home/rittick/anaconda3/lib/python3.8/site-packages/secretstorage/util.py:25: CryptographyDeprecationWarning: int_from_bytes is deprecated, use int.from_bytes instead\n",
      "  from cryptography.utils import int_from_bytes\n",
      "Collecting tkhtmlview\n",
      "  Downloading tkhtmlview-0.1.0.post1.tar.gz (10 kB)\n",
      "Requirement already satisfied: Pillow>=5.3.0 in /home/rittick/anaconda3/lib/python3.8/site-packages (from tkhtmlview) (8.0.1)\n",
      "Requirement already satisfied: requests>=2.22.0 in /home/rittick/anaconda3/lib/python3.8/site-packages (from tkhtmlview) (2.24.0)\n",
      "Requirement already satisfied: chardet<4,>=3.0.2 in /home/rittick/anaconda3/lib/python3.8/site-packages (from requests>=2.22.0->tkhtmlview) (3.0.4)\n",
      "Requirement already satisfied: idna<3,>=2.5 in /home/rittick/anaconda3/lib/python3.8/site-packages (from requests>=2.22.0->tkhtmlview) (2.10)\n",
      "Requirement already satisfied: urllib3!=1.25.0,!=1.25.1,<1.26,>=1.21.1 in /home/rittick/anaconda3/lib/python3.8/site-packages (from requests>=2.22.0->tkhtmlview) (1.25.11)\n",
      "Requirement already satisfied: certifi>=2017.4.17 in /home/rittick/anaconda3/lib/python3.8/site-packages (from requests>=2.22.0->tkhtmlview) (2020.6.20)\n",
      "Building wheels for collected packages: tkhtmlview\n",
      "  Building wheel for tkhtmlview (setup.py) ... \u001b[?25ldone\n",
      "\u001b[?25h  Created wheel for tkhtmlview: filename=tkhtmlview-0.1.0.post1-py3-none-any.whl size=9418 sha256=362cd02af3b10a55bdbd92626c4d676970f28ce32bba2c66707f522b28efee9f\n",
      "  Stored in directory: /home/rittick/.cache/pip/wheels/8d/99/3d/f0239b92cc6e68c5cd5e686957721d5cd4ecbfe0bba4a96445\n",
      "Successfully built tkhtmlview\n",
      "Installing collected packages: tkhtmlview\n",
      "Successfully installed tkhtmlview-0.1.0.post1\n"
     ]
    }
   ],
   "source": [
    "!pip install tkhtmlview"
   ]
  },
  {
   "cell_type": "code",
   "execution_count": 12,
   "id": "atlantic-motion",
   "metadata": {},
   "outputs": [],
   "source": [
    "from tkhtmlview import HTMLLabel"
   ]
  },
  {
   "cell_type": "code",
   "execution_count": 15,
   "id": "english-sucking",
   "metadata": {},
   "outputs": [],
   "source": [
    "import inspect"
   ]
  },
  {
   "cell_type": "code",
   "execution_count": 43,
   "id": "nuclear-department",
   "metadata": {},
   "outputs": [
    {
     "name": "stdout",
     "output_type": "stream",
     "text": [
      "ArgSpec(args=['self', 'options'], varargs=None, keywords=None, defaults=None)\n"
     ]
    },
    {
     "name": "stderr",
     "output_type": "stream",
     "text": [
      "<ipython-input-43-e4d8b00641d0>:1: DeprecationWarning: inspect.getargspec() is deprecated since Python 3.0, use inspect.signature() or inspect.getfullargspec()\n",
      "  print(inspect.getargspec(net.Network.set_options))\n"
     ]
    }
   ],
   "source": [
    "print(inspect.getargspec(net.Network.set_options))"
   ]
  },
  {
   "cell_type": "code",
   "execution_count": 27,
   "id": "genetic-liver",
   "metadata": {},
   "outputs": [],
   "source": [
    "functions_list = [o for o in inspect.getmembers(net.Network)if inspect.isfunction(o[1])]"
   ]
  },
  {
   "cell_type": "code",
   "execution_count": 28,
   "id": "dried-heater",
   "metadata": {},
   "outputs": [
    {
     "name": "stdout",
     "output_type": "stream",
     "text": [
      "[('__init__', <function Network.__init__ at 0x7faecf7cc820>), ('__repr__', <function Network.__repr__ at 0x7faebb9a2e50>), ('__str__', <function Network.__str__ at 0x7faebb9c0ca0>), ('add_edge', <function Network.add_edge at 0x7faebb9a5160>), ('add_edges', <function Network.add_edges at 0x7faebb9a51f0>), ('add_node', <function Network.add_node at 0x7faebb9a2ee0>), ('add_nodes', <function Network.add_nodes at 0x7faebb9a2f70>), ('barnes_hut', <function Network.barnes_hut at 0x7faebb9a5af0>), ('force_atlas_2based', <function Network.force_atlas_2based at 0x7faebb9a5ca0>), ('from_DOT', <function Network.from_DOT at 0x7faebb9a55e0>), ('from_nx', <function Network.from_nx at 0x7faebb9a58b0>), ('get_adj_list', <function Network.get_adj_list at 0x7faebb9a5670>), ('get_edges', <function Network.get_edges at 0x7faebb9a5a60>), ('get_network_data', <function Network.get_network_data at 0x7faebb9a5280>), ('get_node', <function Network.get_node at 0x7faebb9a59d0>), ('get_nodes', <function Network.get_nodes at 0x7faebb9a5940>), ('hrepulsion', <function Network.hrepulsion at 0x7faebb9a5c10>), ('inherit_edge_colors', <function Network.inherit_edge_colors at 0x7faebb9a5f70>), ('neighbors', <function Network.neighbors at 0x7faebb9a5700>), ('num_edges', <function Network.num_edges at 0x7faebb9a50d0>), ('num_nodes', <function Network.num_nodes at 0x7faebb9a5040>), ('prep_notebook', <function Network.prep_notebook at 0x7faebb9a54c0>), ('repulsion', <function Network.repulsion at 0x7faebb9a5b80>), ('save_graph', <function Network.save_graph at 0x7faebb9a5310>), ('set_edge_smooth', <function Network.set_edge_smooth at 0x7faebb9a5dc0>), ('set_options', <function Network.set_options at 0x7faebb9a9280>), ('set_template', <function Network.set_template at 0x7faebb9a5550>), ('show', <function Network.show at 0x7faebb9a5430>), ('show_buttons', <function Network.show_buttons at 0x7faebb9a9040>), ('to_json', <function Network.to_json at 0x7faebb9a5d30>), ('toggle_drag_nodes', <function Network.toggle_drag_nodes at 0x7faebb9a9160>), ('toggle_hide_edges_on_drag', <function Network.toggle_hide_edges_on_drag at 0x7faebb9a5e50>), ('toggle_hide_nodes_on_drag', <function Network.toggle_hide_nodes_on_drag at 0x7faebb9a5ee0>), ('toggle_physics', <function Network.toggle_physics at 0x7faebb9a90d0>), ('toggle_stabilization', <function Network.toggle_stabilization at 0x7faebb9a91f0>), ('write_html', <function Network.write_html at 0x7faebb9a53a0>)]\n"
     ]
    }
   ],
   "source": [
    "print(functions_list)"
   ]
  },
  {
   "cell_type": "code",
   "execution_count": null,
   "id": "addressed-newport",
   "metadata": {},
   "outputs": [],
   "source": [
    "from tkinter import ttk\n",
    "from tkinter import filedialog\n",
    "import webbrowser\n",
    "interface = tk.Tk()\n",
    "\n",
    "def openfile():\n",
    "   webbrowser.open('/home/rittick/Downloads/Graph_seed_12h8BbuTYYC6zWpTNfbYoGv4LpVGv38MUx.html')\n",
    "\n",
    "button = ttk.Button(interface, text=\"Open\", command=openfile)\n",
    "button.grid(column=1, row=1)\n",
    "\n",
    "interface.mainloop()\n"
   ]
  },
  {
   "cell_type": "code",
   "execution_count": 132,
   "id": "atomic-manor",
   "metadata": {},
   "outputs": [
    {
     "name": "stdout",
     "output_type": "stream",
     "text": [
      "<class 'str'>\n",
      "/home/rittick/Downloads/addresses.json\n",
      "/home/rittick/Downloads/addresses.json\n"
     ]
    }
   ],
   "source": [
    "#global json_filename\n",
    "upload_window=tk.Tk()\n",
    "\n",
    "#ent1=tk.Entry(root,font=40)\n",
    "#ent1.grid(row=2,column=2)\n",
    "\n",
    "def browsefunc():\n",
    "    filename = filedialog.askopenfilename(filetypes=((\"json file\",'*.json'),))\n",
    "    print(type(filename))\n",
    "    global json_filename\n",
    "    json_filename=filename\n",
    "    print(json_filename)\n",
    "def nextwindow():\n",
    "    json_work=tk.Tk()\n",
    "    #filename = tk.StringVar()\n",
    "    #filenameEntered = tk.Entry(json_work, width = 15, textvariable = filename)\n",
    "    b1=tk.Button(json_work,text=\"Exrtract Addresses\", font=40, command=deal_with_json(json_filename)).pack()\n",
    "    tk.Button(json_work, text=\"Quit\", command=json_work.destroy).pack()\n",
    "    json_work.mainloop()\n",
    "b1=tk.Button(upload_window,text=\"Browse\",font=40,command=browsefunc).pack()\n",
    "tk.Button(upload_window, text=\"Quit\", command=upload_window.destroy).pack()\n",
    "tk.Button(upload_window,text=\"NEXT\", font=40, command=nextwindow).pack()\n",
    "\n",
    "upload_window.mainloop()\n",
    "print(json_filename)"
   ]
  },
  {
   "cell_type": "code",
   "execution_count": 109,
   "id": "warming-likelihood",
   "metadata": {},
   "outputs": [
    {
     "name": "stdout",
     "output_type": "stream",
     "text": [
      "None\n"
     ]
    }
   ],
   "source": [
    "import json\n",
    "def deal_with_json(filename):\n",
    "    global address_list\n",
    "    address_list=set()\n",
    "    with open(filename) as f:\n",
    "        for line in f:\n",
    "            if line.rstrip():\n",
    "                data = json.loads(line)\n",
    "                #print(data['bitcoin addresses'])\n",
    "                for i in data['bitcoin addresses']:\n",
    "                    address_list.add(i)\n",
    "address_list=deal_with_json(json_filename)\n",
    "print(address_list)"
   ]
  },
  {
   "cell_type": "code",
   "execution_count": 131,
   "id": "phantom-former",
   "metadata": {},
   "outputs": [
    {
     "ename": "TypeError",
     "evalue": "expected str, bytes or os.PathLike object, not Entry",
     "output_type": "error",
     "traceback": [
      "\u001b[0;31m---------------------------------------------------------------------------\u001b[0m",
      "\u001b[0;31mTypeError\u001b[0m                                 Traceback (most recent call last)",
      "\u001b[0;32m<ipython-input-131-84147bc560b4>\u001b[0m in \u001b[0;36m<module>\u001b[0;34m\u001b[0m\n\u001b[1;32m      2\u001b[0m \u001b[0mfilename\u001b[0m \u001b[0;34m=\u001b[0m \u001b[0mtk\u001b[0m\u001b[0;34m.\u001b[0m\u001b[0mStringVar\u001b[0m\u001b[0;34m(\u001b[0m\u001b[0;34m)\u001b[0m\u001b[0;34m\u001b[0m\u001b[0;34m\u001b[0m\u001b[0m\n\u001b[1;32m      3\u001b[0m \u001b[0mfilenameEntered\u001b[0m \u001b[0;34m=\u001b[0m \u001b[0mtk\u001b[0m\u001b[0;34m.\u001b[0m\u001b[0mEntry\u001b[0m\u001b[0;34m(\u001b[0m\u001b[0mjson_work\u001b[0m\u001b[0;34m,\u001b[0m \u001b[0mwidth\u001b[0m \u001b[0;34m=\u001b[0m \u001b[0;36m15\u001b[0m\u001b[0;34m,\u001b[0m \u001b[0mtextvariable\u001b[0m \u001b[0;34m=\u001b[0m \u001b[0mfilename\u001b[0m\u001b[0;34m)\u001b[0m\u001b[0;34m\u001b[0m\u001b[0;34m\u001b[0m\u001b[0m\n\u001b[0;32m----> 4\u001b[0;31m \u001b[0mb1\u001b[0m\u001b[0;34m=\u001b[0m\u001b[0mtk\u001b[0m\u001b[0;34m.\u001b[0m\u001b[0mButton\u001b[0m\u001b[0;34m(\u001b[0m\u001b[0mjson_work\u001b[0m\u001b[0;34m,\u001b[0m\u001b[0mtext\u001b[0m\u001b[0;34m=\u001b[0m\u001b[0;34m\"Exrtract Addresses\"\u001b[0m\u001b[0;34m,\u001b[0m \u001b[0mfont\u001b[0m\u001b[0;34m=\u001b[0m\u001b[0;36m40\u001b[0m\u001b[0;34m,\u001b[0m \u001b[0mcommand\u001b[0m\u001b[0;34m=\u001b[0m\u001b[0mdeal_with_json\u001b[0m\u001b[0;34m(\u001b[0m\u001b[0mfilenameEntered\u001b[0m\u001b[0;34m)\u001b[0m\u001b[0;34m)\u001b[0m\u001b[0;34m.\u001b[0m\u001b[0mpack\u001b[0m\u001b[0;34m(\u001b[0m\u001b[0;34m)\u001b[0m\u001b[0;34m\u001b[0m\u001b[0;34m\u001b[0m\u001b[0m\n\u001b[0m\u001b[1;32m      5\u001b[0m \u001b[0mtk\u001b[0m\u001b[0;34m.\u001b[0m\u001b[0mButton\u001b[0m\u001b[0;34m(\u001b[0m\u001b[0mupload_window\u001b[0m\u001b[0;34m,\u001b[0m \u001b[0mtext\u001b[0m\u001b[0;34m=\u001b[0m\u001b[0;34m\"Quit\"\u001b[0m\u001b[0;34m,\u001b[0m \u001b[0mcommand\u001b[0m\u001b[0;34m=\u001b[0m\u001b[0mupload_window\u001b[0m\u001b[0;34m.\u001b[0m\u001b[0mdestroy\u001b[0m\u001b[0;34m)\u001b[0m\u001b[0;34m.\u001b[0m\u001b[0mpack\u001b[0m\u001b[0;34m(\u001b[0m\u001b[0;34m)\u001b[0m\u001b[0;34m\u001b[0m\u001b[0;34m\u001b[0m\u001b[0m\n\u001b[1;32m      6\u001b[0m \u001b[0mjson_work\u001b[0m\u001b[0;34m.\u001b[0m\u001b[0mmainloop\u001b[0m\u001b[0;34m(\u001b[0m\u001b[0;34m)\u001b[0m\u001b[0;34m\u001b[0m\u001b[0;34m\u001b[0m\u001b[0m\n",
      "\u001b[0;32m<ipython-input-109-e027b1ffd7dd>\u001b[0m in \u001b[0;36mdeal_with_json\u001b[0;34m(filename)\u001b[0m\n\u001b[1;32m      3\u001b[0m     \u001b[0;32mglobal\u001b[0m \u001b[0maddress_list\u001b[0m\u001b[0;34m\u001b[0m\u001b[0;34m\u001b[0m\u001b[0m\n\u001b[1;32m      4\u001b[0m     \u001b[0maddress_list\u001b[0m\u001b[0;34m=\u001b[0m\u001b[0mset\u001b[0m\u001b[0;34m(\u001b[0m\u001b[0;34m)\u001b[0m\u001b[0;34m\u001b[0m\u001b[0;34m\u001b[0m\u001b[0m\n\u001b[0;32m----> 5\u001b[0;31m     \u001b[0;32mwith\u001b[0m \u001b[0mopen\u001b[0m\u001b[0;34m(\u001b[0m\u001b[0mfilename\u001b[0m\u001b[0;34m)\u001b[0m \u001b[0;32mas\u001b[0m \u001b[0mf\u001b[0m\u001b[0;34m:\u001b[0m\u001b[0;34m\u001b[0m\u001b[0;34m\u001b[0m\u001b[0m\n\u001b[0m\u001b[1;32m      6\u001b[0m         \u001b[0;32mfor\u001b[0m \u001b[0mline\u001b[0m \u001b[0;32min\u001b[0m \u001b[0mf\u001b[0m\u001b[0;34m:\u001b[0m\u001b[0;34m\u001b[0m\u001b[0;34m\u001b[0m\u001b[0m\n\u001b[1;32m      7\u001b[0m             \u001b[0;32mif\u001b[0m \u001b[0mline\u001b[0m\u001b[0;34m.\u001b[0m\u001b[0mrstrip\u001b[0m\u001b[0;34m(\u001b[0m\u001b[0;34m)\u001b[0m\u001b[0;34m:\u001b[0m\u001b[0;34m\u001b[0m\u001b[0;34m\u001b[0m\u001b[0m\n",
      "\u001b[0;31mTypeError\u001b[0m: expected str, bytes or os.PathLike object, not Entry"
     ]
    }
   ],
   "source": [
    "json_work=tk.Tk()\n",
    "filename = tk.StringVar()\n",
    "filenameEntered = tk.Entry(json_work, width = 15, textvariable = filename)\n",
    "b1=tk.Button(json_work,text=\"Exrtract Addresses\", font=40, command=deal_with_json(filenameEntered)).pack()\n",
    "tk.Button(upload_window, text=\"Quit\", command=upload_window.destroy).pack()\n",
    "json_work.mainloop()"
   ]
  },
  {
   "cell_type": "code",
   "execution_count": 133,
   "id": "welcome-jaguar",
   "metadata": {},
   "outputs": [
    {
     "name": "stdout",
     "output_type": "stream",
     "text": [
      "{'1JRGrUdT6wFn1A5r6sW21dJQwtvC742cQv', '12pWtTFEQeUcv96UdcwgU9JfUUme9hq3XH', '3JTFyDPUE64f6rAqpcDR6ozj2gC4siy6am', '1NqWh9SqL8hRgA2RCisb3rjRusEbPLdH7D', '3DKavLP7CPWPqF4Mr3MyEpxbMNKwVKduZt', '15w4L77KbGUzij3pnt5fgmyEFCWNabegB5', '1NvhNrBe2YorNfRtxe7ftjHgz4CkRuPFtC', '3AdCmv14y8HdWcNakMvsSo3NpezjpvwNtn', '1GaGNqVF3Bj7pCXNv1wurPtyoS7GNgq8wd', '19ESxFFN5fUs95xJFmNZnF2juPZnm53eq1', '1BiBLE4U2fLzhr5i2nt1Uxz57CzWktdTSv', '1uaPF2fsmYmkXv3XswELowupQDaQ45GNn', '16P3pyRABTSsBFaKYfWpTv4nUGDbFqUKvn', '18gs3qDmznjKagNJrcgN2T3aUe3McG7iKJ', '18bctM9KQG3e5hHP8r1w5NQPd8CCByiNAf', '1B7E2o6ALyCtANbJt4KQNdM4BGzYCvyeLR', '1ECaLb6QMWQeA1mRMffXdPNgpSUSqsqtyh', '12h8BbuTYYC6zWpTNfbYoGv4LpVGv38MUx', '3FLWEkf3REFVNxZutjxA4eXeijzS9kycFi', '16MSWSXgSd8YGJY6vbN9o2JipXbsoFmLtR', '3GFTt3etxbQXLz35ccNcm8BHV6xy5LUeoH'}\n"
     ]
    }
   ],
   "source": [
    "print(address_list)"
   ]
  },
  {
   "cell_type": "code",
   "execution_count": 129,
   "id": "romantic-hayes",
   "metadata": {},
   "outputs": [
    {
     "name": "stdout",
     "output_type": "stream",
     "text": [
      "www.google.com\n"
     ]
    }
   ],
   "source": [
    "seed_window=tk.Tk()\n",
    "def get_url():\n",
    "    global url\n",
    "    url=entry_text.get()\n",
    "entry_text = tk.StringVar()\n",
    "entry = tk.Entry(seed_window, width=10, textvariable=entry_text).pack()\n",
    "b1=tk.Button(seed_window,text=\"Submit\", font=40, command=get_url).pack()\n",
    "tk.Button(seed_window, text=\"Quit\", command=seed_window.destroy).pack()\n",
    "seed_window.mainloop()\n",
    "print(url)"
   ]
  },
  {
   "cell_type": "code",
   "execution_count": null,
   "id": "interstate-samba",
   "metadata": {},
   "outputs": [],
   "source": [
    "test=tk.Tk()\n",
    "\n",
    "test.mainloop()"
   ]
  },
  {
   "cell_type": "code",
   "execution_count": 130,
   "id": "choice-console",
   "metadata": {},
   "outputs": [
    {
     "name": "stdout",
     "output_type": "stream",
     "text": [
      "www.google.com\n"
     ]
    }
   ],
   "source": [
    "print(url)"
   ]
  }
 ],
 "metadata": {
  "kernelspec": {
   "display_name": "Python 3",
   "language": "python",
   "name": "python3"
  },
  "language_info": {
   "codemirror_mode": {
    "name": "ipython",
    "version": 3
   },
   "file_extension": ".py",
   "mimetype": "text/x-python",
   "name": "python",
   "nbconvert_exporter": "python",
   "pygments_lexer": "ipython3",
   "version": "3.8.5"
  }
 },
 "nbformat": 4,
 "nbformat_minor": 5
}
