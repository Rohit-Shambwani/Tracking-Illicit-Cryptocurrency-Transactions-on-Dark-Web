{
 "cells": [
  {
   "cell_type": "code",
   "execution_count": 1,
   "metadata": {},
   "outputs": [],
   "source": [
    "#create and get the database ready\n",
    "from pymongo import MongoClient\n",
    "\n",
    "client = MongoClient('localhost', 27017)\n",
    "\n",
    "db = client['crawlerData1']     #CREATES A DATABASE crawlerData1\n",
    "table1 = db['websites']       #CREATES A COLLECTION websites, collection means table\n",
    "\n",
    "#another table to store only links for crawling purpose\n",
    "table2 = db['crawl_links']"
   ]
  },
  {
   "cell_type": "code",
   "execution_count": 4,
   "metadata": {},
   "outputs": [],
   "source": [
    "from tbselenium.tbdriver import TorBrowserDriver\n",
    "from Bitcoin_address import Bitcoin_Address as ba\n",
    "from selenium.common.exceptions import NoSuchElementException\n",
    "    \n",
    "driver = TorBrowserDriver(\"/opt/tor-browser_en-US/\")\n",
    "\n",
    "#INPUTTING INITIAL DATA\n",
    "#seed url\n",
    "#url = 'https://www.blockchain.com/btc/tx/826af504d2dceb57db11054f3a62f386ee10e88a361c21f37642cf6d1ccefdcc'\n",
    "# url = 'https://3g2upl4pq6kufc4m.onion/'\n",
    "\n",
    "url = 'http://thehiddenwiki.org/'\n",
    "table2.insert_one({\"link\": url, \"visited\": 1})\n",
    "#enter crawl limit\n",
    "crawl_limit=200;\n",
    "\n"
   ]
  },
  {
   "cell_type": "code",
   "execution_count": 4,
   "metadata": {},
   "outputs": [
    {
     "ename": "TypeError",
     "evalue": "'NoneType' object is not subscriptable",
     "output_type": "error",
     "traceback": [
      "\u001b[0;31m---------------------------------------------------------------------------\u001b[0m",
      "\u001b[0;31mTypeError\u001b[0m                                 Traceback (most recent call last)",
      "\u001b[0;32m<ipython-input-4-d5eebaf997a9>\u001b[0m in \u001b[0;36m<module>\u001b[0;34m\u001b[0m\n\u001b[1;32m      8\u001b[0m \u001b[0;34m\u001b[0m\u001b[0m\n\u001b[1;32m      9\u001b[0m \u001b[0mquery\u001b[0m \u001b[0;34m=\u001b[0m \u001b[0;34m{\u001b[0m \u001b[0;34m\"visited\"\u001b[0m\u001b[0;34m:\u001b[0m \u001b[0;36m0\u001b[0m \u001b[0;34m}\u001b[0m\u001b[0;34m\u001b[0m\u001b[0;34m\u001b[0m\u001b[0m\n\u001b[0;32m---> 10\u001b[0;31m \u001b[0murl\u001b[0m\u001b[0;34m=\u001b[0m \u001b[0mtable2\u001b[0m\u001b[0;34m.\u001b[0m\u001b[0mfind_one\u001b[0m\u001b[0;34m(\u001b[0m\u001b[0mquery\u001b[0m\u001b[0;34m)\u001b[0m\u001b[0;34m[\u001b[0m\u001b[0;34m'link'\u001b[0m\u001b[0;34m]\u001b[0m\u001b[0;34m\u001b[0m\u001b[0;34m\u001b[0m\u001b[0m\n\u001b[0m\u001b[1;32m     11\u001b[0m \u001b[0mcrawl_limit\u001b[0m\u001b[0;34m=\u001b[0m\u001b[0;36m646\u001b[0m\u001b[0;34m;\u001b[0m\u001b[0;34m\u001b[0m\u001b[0;34m\u001b[0m\u001b[0m\n",
      "\u001b[0;31mTypeError\u001b[0m: 'NoneType' object is not subscriptable"
     ]
    }
   ],
   "source": [
    "#for interleaved crawling\n",
    "from tbselenium.tbdriver import TorBrowserDriver\n",
    "from Bitcoin_address import Bitcoin_Address as ba\n",
    "from selenium.common.exceptions import NoSuchElementException\n",
    "import re\n",
    "\n",
    "driver = TorBrowserDriver(\"/opt/tor-browser_en-US/\")\n",
    "\n",
    "query = { \"visited\": 0 }\n",
    "url= table2.find_one(query)['link']\n",
    "crawl_limit=646;"
   ]
  },
  {
   "cell_type": "code",
   "execution_count": null,
   "metadata": {},
   "outputs": [],
   "source": [
    "#loop to crawl\n",
    "for i in range(crawl_limit):\n",
    "    try:\n",
    "        driver.get(url)\n",
    "\n",
    "        #storing all links on the webpage\n",
    "        allLinks =[]\n",
    "        elems = driver.find_elements_by_xpath(\"//a[@href]\")\n",
    "#         for elem in elems:\n",
    "#             link = elem.get_attribute(\"href\")\n",
    "#             match = re.search('.onion', link)\n",
    "            \n",
    "#             if match:\n",
    "#                allLinks.append(link) \n",
    "\n",
    "\n",
    "        #getting all text from this particular webpage\n",
    "        text=driver.find_element_by_xpath(\"/html/body\").text\n",
    "\n",
    "        #extracting ONLY bitcoin addresses from the entire text\n",
    "        win_len=26\n",
    "        bc_flag=False\n",
    "        i=0\n",
    "        addresses=[]\n",
    "        while i<=(len(text)-26):\n",
    "            win_len=26\n",
    "            if text[i]=='1' or text[i]=='3':\n",
    "                while win_len<=35:\n",
    "                    if ba.check_bc(text[i:i+win_len]):\n",
    "                        addresses.append(text[i:i+win_len])\n",
    "                        win_len=26\n",
    "                        break\n",
    "                    else:\n",
    "                        #print(text[i:i+win_len])\n",
    "                        win_len+=1\n",
    "            #print(i)\n",
    "            i+=1\n",
    "\n",
    "\n",
    "        #STORING IN THE DATABASES\n",
    "        #table1: details about individual pages\n",
    "        #table2: links to continue crawling\n",
    "        try:\n",
    "            metadata = driver.find_element_by_xpath(\"//meta[@name='description']\").get_attribute(\"content\")\n",
    "        except NoSuchElementException:\n",
    "            metadata=[]\n",
    "\n",
    "        #only insert if the web page actually contains a bitcoin address\n",
    "        if(len(addresses)>0):\n",
    "            record= { \"link\": url,\n",
    "                      \"metadata\": metadata,\n",
    "                      \"bitcoin addresses\": addresses }\n",
    "            x= table1.insert_one(record)\n",
    "\n",
    "\n",
    "\n",
    "\n",
    "#         record_links=[]\n",
    "#         for link in allLinks:\n",
    "#             if(table2.find( { \"link\": link } ).count() == 0):\n",
    "#                 #record_links.append({\"link\": link, \"visited\":0})\n",
    "#                 x= table2.insert_one({\"link\": link, \"visited\":0})\n",
    "\n",
    "        #insert many approach \n",
    "        #if(len(record_links)!=0):\n",
    "        #    x= table2.insert_many(record_links)\n",
    "\n",
    "        #set the visited to 1 in table2\n",
    "        query = { \"link\": url }\n",
    "        newvalue = { \"$set\": { \"visited\": 1 } }\n",
    "        table2.update_one(query, newvalue)\n",
    "\n",
    "        query = { \"visited\": 0 }\n",
    "        url= table2.find_one(query)['link']\n",
    "\n",
    "#         #choosing the next URL to crawl which is NOT VISITED\n",
    "#         query = { \"visited\": 0 }\n",
    "#         url= table2.find_one(query)['link']\n",
    "    \n",
    "    except:\n",
    "        #choosing the next URL to crawl which is NOT VISITED\n",
    "        #set the url which gives exception to visited\n",
    "        query = { \"link\": url }\n",
    "        newvalue = { \"$set\": { \"visited\": 1 } }\n",
    "        table2.update_one(query, newvalue)\n",
    "        \n",
    "        query = { \"visited\": 0 }\n",
    "        url= table2.find_one(query)['link']    \n",
    "    \n",
    "     \n"
   ]
  },
  {
   "cell_type": "code",
   "execution_count": 22,
   "metadata": {},
   "outputs": [],
   "source": [
    "# #reset everything before rerunning\n",
    "# table1.drop()\n",
    "# table2.drop()"
   ]
  },
  {
   "cell_type": "code",
   "execution_count": null,
   "metadata": {},
   "outputs": [],
   "source": [
    "# DELETING LINKS WHICH ARE NOT NEEDED\n",
    "\n",
    "db.crawl_links.find( { link: { $not: { $regex: /[.]onion/ } } } ).count()\n",
    "\n",
    "db.crawl_links.find({link: /[.]co/}).count()\n",
    "db.crawl_links.find({\"visited\": 1}).count()\n",
    "\n",
    "db.crawl_links.remove({link: /[.]org/})\n",
    "db.crawl_links.remove({link: /[.]com/})\n",
    "db.crawl_links.remove({link: /[.]net/})"
   ]
  },
  {
   "cell_type": "code",
   "execution_count": null,
   "metadata": {},
   "outputs": [],
   "source": [
    "superkuhbitj6tul"
   ]
  },
  {
   "cell_type": "code",
   "execution_count": null,
   "metadata": {},
   "outputs": [],
   "source": [
    "db.crawl_links.find({link: /superkuhbitj6tul/}).count()"
   ]
  },
  {
   "cell_type": "code",
   "execution_count": null,
   "metadata": {},
   "outputs": [],
   "source": []
  },
  {
   "cell_type": "code",
   "execution_count": null,
   "metadata": {},
   "outputs": [],
   "source": [
    "table2.find_one({ \"visited\": 0 })['link']"
   ]
  },
  {
   "cell_type": "code",
   "execution_count": 8,
   "metadata": {},
   "outputs": [],
   "source": [
    "driver = TorBrowserDriver(\"/opt/tor-browser_en-US/\")\n",
    "\n",
    "try:\n",
    "    driver.get('https://qtt2yl5jocgrk7nu.onion/')\n",
    "except:\n",
    "    driver.get('https://privacybox.de/')"
   ]
  },
  {
   "cell_type": "code",
   "execution_count": null,
   "metadata": {},
   "outputs": [],
   "source": []
  },
  {
   "cell_type": "code",
   "execution_count": null,
   "metadata": {},
   "outputs": [],
   "source": []
  },
  {
   "cell_type": "code",
   "execution_count": 15,
   "metadata": {},
   "outputs": [],
   "source": [
    "import re\n",
    "\n",
    "string = \"asdsbhv.onion/asbjhbd\"\n",
    "match = re.search('.onion', string)"
   ]
  },
  {
   "cell_type": "code",
   "execution_count": 16,
   "metadata": {},
   "outputs": [
    {
     "data": {
      "text/plain": [
       "<re.Match object; span=(7, 13), match='.onion'>"
      ]
     },
     "execution_count": 16,
     "metadata": {},
     "output_type": "execute_result"
    }
   ],
   "source": [
    "match"
   ]
  },
  {
   "cell_type": "code",
   "execution_count": null,
   "metadata": {},
   "outputs": [],
   "source": []
  },
  {
   "cell_type": "code",
   "execution_count": null,
   "metadata": {},
   "outputs": [],
   "source": []
  },
  {
   "cell_type": "code",
   "execution_count": null,
   "metadata": {},
   "outputs": [],
   "source": []
  }
 ],
 "metadata": {
  "kernelspec": {
   "display_name": "Python 3",
   "language": "python",
   "name": "python3"
  },
  "language_info": {
   "codemirror_mode": {
    "name": "ipython",
    "version": 3
   },
   "file_extension": ".py",
   "mimetype": "text/x-python",
   "name": "python",
   "nbconvert_exporter": "python",
   "pygments_lexer": "ipython3",
   "version": "3.8.3"
  }
 },
 "nbformat": 4,
 "nbformat_minor": 4
}
